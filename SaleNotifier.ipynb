{
 "cells": [
  {
   "cell_type": "markdown",
   "id": "2d2dc382",
   "metadata": {},
   "source": [
    "# Automated Sale Notifier\n",
    "### Notifies you when the sale is up and running!\n",
    "\n",
    "*This particular program sends you a notification whenever the specified product is at your desired price.*\n",
    "\n",
    "*I have used simple web scraping technique for the same, where it keeps a record of the price at every hour, and notifies through mail when the price drops below a certain value.*"
   ]
  },
  {
   "cell_type": "code",
   "execution_count": 1,
   "id": "eab5c38c",
   "metadata": {},
   "outputs": [],
   "source": [
    "# importing  libraries \n",
    "\n",
    "from bs4 import BeautifulSoup   #python library used for pulling data out of HTML files\n",
    "import requests                 #library for making http requests\n",
    "import time                     #python time module provides functions for working with times\n",
    "import datetime                 #datetime module helps to work with both date and time\n",
    "import smtplib                  #this module can be used to send an email to any internet machine"
   ]
  },
  {
   "cell_type": "code",
   "execution_count": 2,
   "id": "edcb0276",
   "metadata": {
    "scrolled": false
   },
   "outputs": [
    {
     "name": "stdout",
     "output_type": "stream",
     "text": [
      "\n",
      "\n",
      "\n",
      "\n",
      "\n",
      "\n",
      "\n",
      "\n",
      "New Apple Watch SE (GPS, 44mm) - Space Grey Aluminium Case with Black Sport Band\n",
      "\n",
      "\n",
      "\n",
      "\n",
      "\n",
      "\n",
      "\n",
      "₹27,900.00\n",
      "\n",
      "\n",
      "\n",
      "\n",
      "In stock.\n",
      "\n",
      "\n",
      "\n",
      "\n",
      "\n"
     ]
    }
   ],
   "source": [
    "# Connecting to the webpage\n",
    "\n",
    "url = 'https://www.amazon.in/New-Apple-Watch-GPS-44mm/dp/B08J6HRBLH?ref_=Oct_DLandingS_D_8dc5a645_60&smid=A14CZOWI0VEHLG'\n",
    "headers = {\"User-Agent\": \"Mozilla/5.0 (Windows NT 10.0; Win64; x64) AppleWebKit/537.36 (KHTML, like Gecko) Chrome/94.0.4606.81 Safari/537.36\", \"Accept-Encoding\":\"gzip, deflate\", \"Accept\":\"text/html,application/xhtml+xml,application/xml;q=0.9,*/*;q=0.8\", \"DNT\":\"1\",\"Connection\":\"close\", \"Upgrade-Insecure-Requests\":\"1\"}\n",
    "\n",
    "page = requests.get(url, headers=headers)\n",
    "\n",
    "page_content = BeautifulSoup(page.content, \"html.parser\") # returns the html code for the entire page\n",
    "\n",
    "# Finding the Product name,price and availability\n",
    "\n",
    "product = page_content.find(id='productTitle').get_text()\n",
    "price = page_content.find(id='priceblock_dealprice').get_text()\n",
    "stock = page_content.find(id= 'availability').get_text()\n",
    "\n",
    "print(product)\n",
    "print(price)\n",
    "print(stock)"
   ]
  },
  {
   "cell_type": "markdown",
   "id": "a2dc93f5",
   "metadata": {},
   "source": [
    "*We are getting so many white spaces because we are pulling out the information from the html code, which is not much organized.*\n",
    "*Therfore we would now remove the whitespaces.*"
   ]
  },
  {
   "cell_type": "code",
   "execution_count": 3,
   "id": "6cbbf9c0",
   "metadata": {},
   "outputs": [
    {
     "name": "stdout",
     "output_type": "stream",
     "text": [
      "New Apple Watch SE (GPS, 44mm) - Space Grey Aluminium Case with Black Sport Band\n",
      "27,900.00\n",
      "In stock.\n"
     ]
    }
   ],
   "source": [
    "price = price.strip()[1:]\n",
    "product = product.strip()\n",
    "stock = stock.strip()\n",
    "print(product)\n",
    "print(price)\n",
    "print(stock)"
   ]
  },
  {
   "cell_type": "markdown",
   "id": "fd3009e2",
   "metadata": {},
   "source": [
    "*It is always helpful to have a timestamp column in a dataset, so therefore we will also keep a track of the date and time at which the data was recorded*"
   ]
  },
  {
   "cell_type": "code",
   "execution_count": 4,
   "id": "fd6d9b2a",
   "metadata": {},
   "outputs": [
    {
     "name": "stdout",
     "output_type": "stream",
     "text": [
      "2021-10-27\n",
      "23:35:22\n"
     ]
    }
   ],
   "source": [
    "now = datetime.datetime.now()\n",
    "date = datetime.date.today()\n",
    "t = now.strftime(\"%X\")\n",
    "\n",
    "print(date)\n",
    "print(t)"
   ]
  },
  {
   "cell_type": "markdown",
   "id": "41c9c726",
   "metadata": {},
   "source": [
    "*We would now create a csv file to store the data.*"
   ]
  },
  {
   "cell_type": "code",
   "execution_count": 5,
   "id": "ac1dfad0",
   "metadata": {},
   "outputs": [],
   "source": [
    "import csv\n",
    "\n",
    "column_header = ['Product', 'Price', 'Availability' , 'Date' , 'Time']\n",
    "values = [product, price, stock, date, t]\n",
    "\n",
    "\n",
    "with open('WebScrapingData.csv', 'w', newline='', encoding='UTF8') as f:\n",
    "    writer = csv.writer(f)\n",
    "    writer.writerow(column_header)\n",
    "    writer.writerow(values)"
   ]
  },
  {
   "cell_type": "markdown",
   "id": "992ca449",
   "metadata": {},
   "source": [
    "*The following function keeps on recording the values into the csv file, we have combined all the above statements and are appending the csv file at the end, And this will also call another function in case the price drops.*"
   ]
  },
  {
   "cell_type": "code",
   "execution_count": 6,
   "id": "ccb448e9",
   "metadata": {},
   "outputs": [],
   "source": [
    "def pricecheck():\n",
    "    url = 'https://www.amazon.in/New-Apple-Watch-GPS-44mm/dp/B08J6HRBLH?ref_=Oct_DLandingS_D_8dc5a645_60&smid=A14CZOWI0VEHLG'\n",
    "    headers = {\"User-Agent\": \"Mozilla/5.0 (Windows NT 10.0; Win64; x64) AppleWebKit/537.36 (KHTML, like Gecko) Chrome/94.0.4606.81 Safari/537.36\", \"Accept-Encoding\":\"gzip, deflate\", \"Accept\":\"text/html,application/xhtml+xml,application/xml;q=0.9,*/*;q=0.8\", \"DNT\":\"1\",\"Connection\":\"close\", \"Upgrade-Insecure-Requests\":\"1\"}\n",
    "    page = requests.get(url, headers=headers)\n",
    "    page_content = BeautifulSoup(page.content, \"html.parser\")\n",
    "    product = page_content.find(id='productTitle').get_text()\n",
    "    price = page_content.find(id='priceblock_dealprice').get_text()\n",
    "    stock = page_content.find(id= 'availability').get_text()\n",
    "    price = price.strip()[1:]\n",
    "    product = product.strip()\n",
    "    stock = stock.strip()\n",
    "    now = datetime.datetime.now()\n",
    "    date = datetime.date.today()\n",
    "    t = now.strftime(\"%X\")\n",
    "    values = [product, price, stock, date, t]\n",
    "    with open('WebScrapingData.csv', 'a+', newline='', encoding='UTF8') as f:\n",
    "        writer = csv.writer(f)\n",
    "        writer.writerow(values)\n",
    "    if(price == \"25,900\"):\n",
    "        e_mail()"
   ]
  },
  {
   "cell_type": "markdown",
   "id": "717af5c8",
   "metadata": {},
   "source": [
    "*We are now checking the values at regular intervals, in this case in every 10 seconds.*"
   ]
  },
  {
   "cell_type": "code",
   "execution_count": 7,
   "id": "9649f64f",
   "metadata": {},
   "outputs": [
    {
     "ename": "KeyboardInterrupt",
     "evalue": "",
     "output_type": "error",
     "traceback": [
      "\u001b[1;31m---------------------------------------------------------------------------\u001b[0m",
      "\u001b[1;31mKeyboardInterrupt\u001b[0m                         Traceback (most recent call last)",
      "\u001b[1;32m<ipython-input-7-955c214d1af9>\u001b[0m in \u001b[0;36m<module>\u001b[1;34m\u001b[0m\n\u001b[0;32m      1\u001b[0m \u001b[1;32mwhile\u001b[0m\u001b[1;33m(\u001b[0m\u001b[1;32mTrue\u001b[0m\u001b[1;33m)\u001b[0m\u001b[1;33m:\u001b[0m\u001b[1;33m\u001b[0m\u001b[1;33m\u001b[0m\u001b[0m\n\u001b[0;32m      2\u001b[0m     \u001b[0mpricecheck\u001b[0m\u001b[1;33m(\u001b[0m\u001b[1;33m)\u001b[0m\u001b[1;33m\u001b[0m\u001b[1;33m\u001b[0m\u001b[0m\n\u001b[1;32m----> 3\u001b[1;33m     \u001b[0mtime\u001b[0m\u001b[1;33m.\u001b[0m\u001b[0msleep\u001b[0m\u001b[1;33m(\u001b[0m\u001b[1;36m10\u001b[0m\u001b[1;33m)\u001b[0m\u001b[1;33m\u001b[0m\u001b[1;33m\u001b[0m\u001b[0m\n\u001b[0m",
      "\u001b[1;31mKeyboardInterrupt\u001b[0m: "
     ]
    }
   ],
   "source": [
    "while(True):\n",
    "    pricecheck()\n",
    "    time.sleep(10)"
   ]
  },
  {
   "cell_type": "markdown",
   "id": "faa88cfe",
   "metadata": {},
   "source": [
    "*We can convert the csv into a dataframe and perform more functions if we want.*"
   ]
  },
  {
   "cell_type": "code",
   "execution_count": 8,
   "id": "f6559f55",
   "metadata": {},
   "outputs": [
    {
     "data": {
      "text/html": [
       "<div>\n",
       "<style scoped>\n",
       "    .dataframe tbody tr th:only-of-type {\n",
       "        vertical-align: middle;\n",
       "    }\n",
       "\n",
       "    .dataframe tbody tr th {\n",
       "        vertical-align: top;\n",
       "    }\n",
       "\n",
       "    .dataframe thead th {\n",
       "        text-align: right;\n",
       "    }\n",
       "</style>\n",
       "<table border=\"1\" class=\"dataframe\">\n",
       "  <thead>\n",
       "    <tr style=\"text-align: right;\">\n",
       "      <th></th>\n",
       "      <th>Product</th>\n",
       "      <th>Price</th>\n",
       "      <th>Availability</th>\n",
       "      <th>Date</th>\n",
       "      <th>Time</th>\n",
       "    </tr>\n",
       "  </thead>\n",
       "  <tbody>\n",
       "    <tr>\n",
       "      <th>0</th>\n",
       "      <td>New Apple Watch SE (GPS, 44mm) - Space Grey Al...</td>\n",
       "      <td>27,900.00</td>\n",
       "      <td>In stock.</td>\n",
       "      <td>2021-10-27</td>\n",
       "      <td>23:35:22</td>\n",
       "    </tr>\n",
       "    <tr>\n",
       "      <th>1</th>\n",
       "      <td>New Apple Watch SE (GPS, 44mm) - Space Grey Al...</td>\n",
       "      <td>27,900.00</td>\n",
       "      <td>In stock.</td>\n",
       "      <td>2021-10-27</td>\n",
       "      <td>23:35:55</td>\n",
       "    </tr>\n",
       "    <tr>\n",
       "      <th>2</th>\n",
       "      <td>New Apple Watch SE (GPS, 44mm) - Space Grey Al...</td>\n",
       "      <td>27,900.00</td>\n",
       "      <td>In stock.</td>\n",
       "      <td>2021-10-27</td>\n",
       "      <td>23:36:07</td>\n",
       "    </tr>\n",
       "    <tr>\n",
       "      <th>3</th>\n",
       "      <td>New Apple Watch SE (GPS, 44mm) - Space Grey Al...</td>\n",
       "      <td>27,900.00</td>\n",
       "      <td>In stock.</td>\n",
       "      <td>2021-10-27</td>\n",
       "      <td>23:36:19</td>\n",
       "    </tr>\n",
       "    <tr>\n",
       "      <th>4</th>\n",
       "      <td>New Apple Watch SE (GPS, 44mm) - Space Grey Al...</td>\n",
       "      <td>27,900.00</td>\n",
       "      <td>In stock.</td>\n",
       "      <td>2021-10-27</td>\n",
       "      <td>23:36:31</td>\n",
       "    </tr>\n",
       "    <tr>\n",
       "      <th>...</th>\n",
       "      <td>...</td>\n",
       "      <td>...</td>\n",
       "      <td>...</td>\n",
       "      <td>...</td>\n",
       "      <td>...</td>\n",
       "    </tr>\n",
       "    <tr>\n",
       "      <th>535</th>\n",
       "      <td>New Apple Watch SE (GPS, 44mm) - Space Grey Al...</td>\n",
       "      <td>27,900.00</td>\n",
       "      <td>In stock.</td>\n",
       "      <td>2021-10-28</td>\n",
       "      <td>12:03:11</td>\n",
       "    </tr>\n",
       "    <tr>\n",
       "      <th>536</th>\n",
       "      <td>New Apple Watch SE (GPS, 44mm) - Space Grey Al...</td>\n",
       "      <td>27,900.00</td>\n",
       "      <td>In stock.</td>\n",
       "      <td>2021-10-28</td>\n",
       "      <td>12:03:23</td>\n",
       "    </tr>\n",
       "    <tr>\n",
       "      <th>537</th>\n",
       "      <td>New Apple Watch SE (GPS, 44mm) - Space Grey Al...</td>\n",
       "      <td>27,900.00</td>\n",
       "      <td>In stock.</td>\n",
       "      <td>2021-10-28</td>\n",
       "      <td>12:03:34</td>\n",
       "    </tr>\n",
       "    <tr>\n",
       "      <th>538</th>\n",
       "      <td>New Apple Watch SE (GPS, 44mm) - Space Grey Al...</td>\n",
       "      <td>27,900.00</td>\n",
       "      <td>In stock.</td>\n",
       "      <td>2021-10-28</td>\n",
       "      <td>12:03:46</td>\n",
       "    </tr>\n",
       "    <tr>\n",
       "      <th>539</th>\n",
       "      <td>New Apple Watch SE (GPS, 44mm) - Space Grey Al...</td>\n",
       "      <td>27,900.00</td>\n",
       "      <td>In stock.</td>\n",
       "      <td>2021-10-28</td>\n",
       "      <td>12:03:58</td>\n",
       "    </tr>\n",
       "  </tbody>\n",
       "</table>\n",
       "<p>540 rows × 5 columns</p>\n",
       "</div>"
      ],
      "text/plain": [
       "                                               Product      Price  \\\n",
       "0    New Apple Watch SE (GPS, 44mm) - Space Grey Al...  27,900.00   \n",
       "1    New Apple Watch SE (GPS, 44mm) - Space Grey Al...  27,900.00   \n",
       "2    New Apple Watch SE (GPS, 44mm) - Space Grey Al...  27,900.00   \n",
       "3    New Apple Watch SE (GPS, 44mm) - Space Grey Al...  27,900.00   \n",
       "4    New Apple Watch SE (GPS, 44mm) - Space Grey Al...  27,900.00   \n",
       "..                                                 ...        ...   \n",
       "535  New Apple Watch SE (GPS, 44mm) - Space Grey Al...  27,900.00   \n",
       "536  New Apple Watch SE (GPS, 44mm) - Space Grey Al...  27,900.00   \n",
       "537  New Apple Watch SE (GPS, 44mm) - Space Grey Al...  27,900.00   \n",
       "538  New Apple Watch SE (GPS, 44mm) - Space Grey Al...  27,900.00   \n",
       "539  New Apple Watch SE (GPS, 44mm) - Space Grey Al...  27,900.00   \n",
       "\n",
       "    Availability        Date      Time  \n",
       "0      In stock.  2021-10-27  23:35:22  \n",
       "1      In stock.  2021-10-27  23:35:55  \n",
       "2      In stock.  2021-10-27  23:36:07  \n",
       "3      In stock.  2021-10-27  23:36:19  \n",
       "4      In stock.  2021-10-27  23:36:31  \n",
       "..           ...         ...       ...  \n",
       "535    In stock.  2021-10-28  12:03:11  \n",
       "536    In stock.  2021-10-28  12:03:23  \n",
       "537    In stock.  2021-10-28  12:03:34  \n",
       "538    In stock.  2021-10-28  12:03:46  \n",
       "539    In stock.  2021-10-28  12:03:58  \n",
       "\n",
       "[540 rows x 5 columns]"
      ]
     },
     "execution_count": 8,
     "metadata": {},
     "output_type": "execute_result"
    }
   ],
   "source": [
    "import pandas as pd\n",
    "\n",
    "webscraping_df = pd.read_csv(r'C:\\Users\\Rohan\\Desktop\\WebScrapingData.csv')\n",
    "\n",
    "webscraping_df"
   ]
  },
  {
   "cell_type": "markdown",
   "id": "ee731eea",
   "metadata": {},
   "source": [
    "*The following function will send us an \"E-MAIL\" if the price drops to the specified value.*"
   ]
  },
  {
   "cell_type": "code",
   "execution_count": 9,
   "id": "cd6dd503",
   "metadata": {},
   "outputs": [],
   "source": [
    "def e_mail():\n",
    "    server = smtplib.SMTP_SSL('smtp.gmail.com',465)\n",
    "    server.ehlo()\n",
    "    server.ehlo()\n",
    "    server.login('shuklarohan261@gmail.com','$$$$$$$$$$$$')\n",
    "    subject = \"Price Drop Alert!\"\n",
    "    body = \"The smart watch is now available at your desired price.Hurry order it now! --> https://www.amazon.in/New-Apple-Watch-GPS-44mm/dp/B08J6HRBLH?ref_=Oct_DLandingS_D_8dc5a645_60&smid=A14CZOWI0VEHLG\"\n",
    "    msg = f\"Subject: {subject}\\n\\n{body}\"\n",
    "    server.sendmail('shuklarohan261@gmail.com',msg)"
   ]
  }
 ],
 "metadata": {
  "language_info": {
   "codemirror_mode": {
    "name": "ipython",
    "version": 3
   },
   "file_extension": ".py",
   "mimetype": "text/x-python",
   "name": "python",
   "nbconvert_exporter": "python",
   "pygments_lexer": "ipython3",
   "version": "3.8.8"
  }
 },
 "nbformat": 4,
 "nbformat_minor": 5
}